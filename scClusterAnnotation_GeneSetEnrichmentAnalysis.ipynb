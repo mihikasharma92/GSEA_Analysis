{
 "cells": [
  {
   "cell_type": "code",
   "execution_count": 53,
   "metadata": {},
   "outputs": [],
   "source": [
    "# Import required libraries\n",
    "import pandas as pd\n",
    "import os\n",
    "import numpy"
   ]
  },
  {
   "cell_type": "code",
   "execution_count": 76,
   "metadata": {},
   "outputs": [],
   "source": [
    "## STEP 1\n",
    "######################################## Create .gmt file for all gene lists ########################################\n",
    "#file_path = [dir1 + file for file in file_list]\n",
    "dir1 = \"/Users/sha6hg/Desktop/IPF_scRNA/AnnotationFiles/KrasnowAnnotationFiles/Human_to_Mouse_Conversion/\"\n",
    "file_list = [file for file in os.listdir(dir1) if \".txt\" in file]\n",
    "count = 0\n",
    "for file in file_list:\n",
    "    name1 = file.split(\".txt\")[0]\n",
    "    name2 = name1 + \"Markers\"\n",
    "    file_path = dir1 + file\n",
    "    gene_list = pd.read_csv(file_path, header = None, sep = \"\\n\")\n",
    "    gene_list1 = list(gene_list[0])\n",
    "    gene_list2 = [name1, name2] +  gene_list1\n",
    "    filename1 = \"/Users/sha6hg/Desktop/IPF_scRNA/GSEA_Analysis/KrasnowAnnotationsForGSEA.gmt\"\n",
    "    if count == 0:\n",
    "        with open(filename1, 'w') as filehandle:\n",
    "            for gene in gene_list2:\n",
    "                filehandle.write('%s\\t' % gene)\n",
    "    if count >= 1:\n",
    "        with open(filename1, 'a') as filehandle:\n",
    "            filehandle.write('\\n')\n",
    "            for gene in gene_list2:\n",
    "                filehandle.write('%s\\t' % gene)\n",
    "    count = count + 1\n",
    "####################################################################################################################"
   ]
  },
  {
   "cell_type": "code",
   "execution_count": 93,
   "metadata": {},
   "outputs": [],
   "source": [
    "## STEP 2\n",
    "################################ Create .rnk files from markers_per_cluster(Seurat) ################################\n",
    "dir2 = \"/Users/sha6hg/Desktop/IPF_scRNA/GSEA_Analysis/\"\n",
    "filename2 = \"/Users/sha6hg/Desktop/IPF_scRNA/Mouse_integrated_MarkerList.txt\"\n",
    "df1 = pd.read_csv(filename2, header = 0, sep = \"\\t\", index_col = 0)\n",
    "for i in set(df1[\"cluster\"]):\n",
    "    df2 = df1[df1[\"cluster\"] == i]\n",
    "    df3 = df2[[\"gene\", \"avg_logFC\"]]\n",
    "    df3.columns = [\"##\", \"\"]\n",
    "    filename3 = dir2 + \"Mouse_Integrated_\" + str(i) + \".rnk\"\n",
    "    df3.to_csv(filename3, index = None, header = True, sep = \"\\t\")\n",
    "####################################################################################################################"
   ]
  },
  {
   "cell_type": "code",
   "execution_count": 94,
   "metadata": {
    "collapsed": true,
    "jupyter": {
     "outputs_hidden": true
    }
   },
   "outputs": [
    {
     "name": "stdout",
     "output_type": "stream",
     "text": [
      "0\n",
      "0\n",
      "0\n",
      "0\n",
      "0\n",
      "0\n",
      "0\n",
      "0\n",
      "0\n",
      "0\n",
      "0\n",
      "0\n",
      "0\n",
      "0\n",
      "0\n",
      "0\n",
      "0\n",
      "0\n",
      "0\n",
      "0\n",
      "0\n",
      "0\n",
      "0\n",
      "0\n",
      "0\n"
     ]
    }
   ],
   "source": [
    "## STEP 3\n",
    "############################################# Run GSEAPreranked v4.0.3 #############################################\n",
    "dir3 = \"/Users/sha6hg/Desktop/IPF_scRNA/GSEA_Analysis/\"\n",
    "os.chdir(dir3)\n",
    "gmt_file = \"/Users/sha6hg/Desktop/IPF_scRNA/GSEA_Analysis/KrasnowAnnotationsForGSEA.gmt\"\n",
    "command1 = \"/Users/sha6hg/Desktop/Tools/GSEA_4.0.3/gsea-cli.sh GSEAPreranked -gmx \"\n",
    "command2 = \" -rnk \"\n",
    "command3 = \" -out /Users/sha6hg/Desktop/IPF_scRNA/GSEA_Analysis/Results -rpt_label \"\n",
    "file_list = [file for file in os.listdir(dir3) if \".rnk\" in file]\n",
    "for file in file_list:\n",
    "    filename4 = file.split(\".rnk\")[0]\n",
    "    command_to_run = command1 +  gmt_file + command2 + dir3 + file + command3 + filename4\n",
    "    #print(command_to_run)\n",
    "    # if the output of print == 0, the command was run successfully\n",
    "    print(os.system(command_to_run))\n",
    "####################################################################################################################"
   ]
  }
 ],
 "metadata": {
  "kernelspec": {
   "display_name": "Python 3",
   "language": "python",
   "name": "python3"
  },
  "language_info": {
   "codemirror_mode": {
    "name": "ipython",
    "version": 3
   },
   "file_extension": ".py",
   "mimetype": "text/x-python",
   "name": "python",
   "nbconvert_exporter": "python",
   "pygments_lexer": "ipython3",
   "version": "3.7.1"
  }
 },
 "nbformat": 4,
 "nbformat_minor": 4
}
